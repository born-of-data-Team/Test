{
 "cells": [
  {
   "cell_type": "markdown",
   "id": "bb7249e3-74f8-4ff4-91a5-dfc2365a8cab",
   "metadata": {
    "tags": []
   },
   "source": [
    "# Background\n",
    "\n",
    "We need to identify a set of events and parameters with the highest or lowest correlation with the potential account cancellation. Prioritize the events, event properties or user properties, which have highest or lowest correlation with the account cancellation\n"
   ]
  },
  {
   "cell_type": "markdown",
   "id": "22058a39-0729-4f59-90da-8d03eebdc51b",
   "metadata": {},
   "source": [
    "# Wee will conduct several standart studies of our data. Let's see how many missing values and look at the data types "
   ]
  },
  {
   "cell_type": "code",
   "execution_count": 52,
   "id": "beeecbd8-0fe4-4deb-a9a9-7f7794a94e1d",
   "metadata": {},
   "outputs": [],
   "source": [
    "import pandas as pd\n",
    "import matplotlib.pyplot as plt\n",
    "import numpy as np\n",
    "import seaborn as sns\n",
    "import numpy as np"
   ]
  },
  {
   "cell_type": "code",
   "execution_count": 15,
   "id": "1f752cc0-1aa6-4568-bc7c-4c376328b7d2",
   "metadata": {},
   "outputs": [
    {
     "data": {
      "text/html": [
       "<div>\n",
       "<style scoped>\n",
       "    .dataframe tbody tr th:only-of-type {\n",
       "        vertical-align: middle;\n",
       "    }\n",
       "\n",
       "    .dataframe tbody tr th {\n",
       "        vertical-align: top;\n",
       "    }\n",
       "\n",
       "    .dataframe thead th {\n",
       "        text-align: right;\n",
       "    }\n",
       "</style>\n",
       "<table border=\"1\" class=\"dataframe\">\n",
       "  <thead>\n",
       "    <tr style=\"text-align: right;\">\n",
       "      <th></th>\n",
       "      <th>userid</th>\n",
       "      <th>user_state</th>\n",
       "      <th>event_name</th>\n",
       "      <th>event_attributes</th>\n",
       "      <th>event_created_date</th>\n",
       "      <th>event_platform</th>\n",
       "      <th>device_manufacture</th>\n",
       "      <th>device_model</th>\n",
       "    </tr>\n",
       "  </thead>\n",
       "  <tbody>\n",
       "    <tr>\n",
       "      <th>0</th>\n",
       "      <td>c95c777785faec8dd910d019d7278ebe</td>\n",
       "      <td>CA</td>\n",
       "      <td>Add Vehicle Success</td>\n",
       "      <td>{\"Make\":\"Dodge\",\"Model\":\"Caravan\",\"Color\":\"Whi...</td>\n",
       "      <td>2022-01-16 17:03:04</td>\n",
       "      <td>android</td>\n",
       "      <td>samsung</td>\n",
       "      <td>SM-N975U</td>\n",
       "    </tr>\n",
       "    <tr>\n",
       "      <th>1</th>\n",
       "      <td>c95c777785faec8dd910d019d7278ebe</td>\n",
       "      <td>CA</td>\n",
       "      <td>Add Vehicle Break</td>\n",
       "      <td>{}</td>\n",
       "      <td>2022-01-16 17:07:47</td>\n",
       "      <td>android</td>\n",
       "      <td>samsung</td>\n",
       "      <td>SM-N975U</td>\n",
       "    </tr>\n",
       "    <tr>\n",
       "      <th>2</th>\n",
       "      <td>f344be2d9a042b7444f3cc5279e38ef1</td>\n",
       "      <td>FL</td>\n",
       "      <td>Calculator View</td>\n",
       "      <td>{}</td>\n",
       "      <td>2022-01-16 17:16:25</td>\n",
       "      <td>android</td>\n",
       "      <td>samsung</td>\n",
       "      <td>SM-G973U1</td>\n",
       "    </tr>\n",
       "    <tr>\n",
       "      <th>3</th>\n",
       "      <td>c95c777785faec8dd910d019d7278ebe</td>\n",
       "      <td>CA</td>\n",
       "      <td>Add Payment Method Success</td>\n",
       "      <td>{\"Payment Method\":\"Credit\",\"Tokenized Pay\":\"\"}</td>\n",
       "      <td>2022-01-16 17:24:22</td>\n",
       "      <td>android</td>\n",
       "      <td>samsung</td>\n",
       "      <td>SM-N975U</td>\n",
       "    </tr>\n",
       "    <tr>\n",
       "      <th>4</th>\n",
       "      <td>e331ed81422d8fba55520a43a872e701</td>\n",
       "      <td>IL</td>\n",
       "      <td>Sign Up Success</td>\n",
       "      <td>{\"Method\":\"Apple\"}</td>\n",
       "      <td>2022-01-16 17:34:51</td>\n",
       "      <td>ios</td>\n",
       "      <td>Apple</td>\n",
       "      <td>iPhone12,1</td>\n",
       "    </tr>\n",
       "  </tbody>\n",
       "</table>\n",
       "</div>"
      ],
      "text/plain": [
       "                             userid user_state                  event_name  \\\n",
       "0  c95c777785faec8dd910d019d7278ebe         CA         Add Vehicle Success   \n",
       "1  c95c777785faec8dd910d019d7278ebe         CA           Add Vehicle Break   \n",
       "2  f344be2d9a042b7444f3cc5279e38ef1         FL             Calculator View   \n",
       "3  c95c777785faec8dd910d019d7278ebe         CA  Add Payment Method Success   \n",
       "4  e331ed81422d8fba55520a43a872e701         IL             Sign Up Success   \n",
       "\n",
       "                                    event_attributes   event_created_date  \\\n",
       "0  {\"Make\":\"Dodge\",\"Model\":\"Caravan\",\"Color\":\"Whi...  2022-01-16 17:03:04   \n",
       "1                                                 {}  2022-01-16 17:07:47   \n",
       "2                                                 {}  2022-01-16 17:16:25   \n",
       "3     {\"Payment Method\":\"Credit\",\"Tokenized Pay\":\"\"}  2022-01-16 17:24:22   \n",
       "4                                 {\"Method\":\"Apple\"}  2022-01-16 17:34:51   \n",
       "\n",
       "  event_platform device_manufacture device_model  \n",
       "0        android            samsung     SM-N975U  \n",
       "1        android            samsung     SM-N975U  \n",
       "2        android            samsung    SM-G973U1  \n",
       "3        android            samsung     SM-N975U  \n",
       "4            ios              Apple   iPhone12,1  "
      ]
     },
     "execution_count": 15,
     "metadata": {},
     "output_type": "execute_result"
    }
   ],
   "source": [
    "#reading data from file\n",
    "data = pd.read_csv('Documents/hacaton/int20h-ds-test-dataset.csv')\n",
    "data.head()"
   ]
  },
  {
   "cell_type": "code",
   "execution_count": 16,
   "id": "dd5c0f47-2bb3-47a4-a768-2d09b61e5f90",
   "metadata": {},
   "outputs": [
    {
     "name": "stdout",
     "output_type": "stream",
     "text": [
      "<class 'pandas.core.frame.DataFrame'>\n",
      "RangeIndex: 23357 entries, 0 to 23356\n",
      "Data columns (total 8 columns):\n",
      " #   Column              Non-Null Count  Dtype \n",
      "---  ------              --------------  ----- \n",
      " 0   userid              23357 non-null  object\n",
      " 1   user_state          23286 non-null  object\n",
      " 2   event_name          23357 non-null  object\n",
      " 3   event_attributes    23357 non-null  object\n",
      " 4   event_created_date  23357 non-null  object\n",
      " 5   event_platform      23357 non-null  object\n",
      " 6   device_manufacture  15847 non-null  object\n",
      " 7   device_model        15847 non-null  object\n",
      "dtypes: object(8)\n",
      "memory usage: 1.4+ MB\n"
     ]
    },
    {
     "data": {
      "text/plain": [
       "None"
      ]
     },
     "metadata": {},
     "output_type": "display_data"
    }
   ],
   "source": [
    "data.drop_duplicates()\n",
    "display(data.info())"
   ]
  },
  {
   "cell_type": "code",
   "execution_count": 17,
   "id": "68f07b3b-980d-4ac3-99e8-d98eaaed5424",
   "metadata": {},
   "outputs": [
    {
     "data": {
      "text/html": [
       "<div>\n",
       "<style scoped>\n",
       "    .dataframe tbody tr th:only-of-type {\n",
       "        vertical-align: middle;\n",
       "    }\n",
       "\n",
       "    .dataframe tbody tr th {\n",
       "        vertical-align: top;\n",
       "    }\n",
       "\n",
       "    .dataframe thead th {\n",
       "        text-align: right;\n",
       "    }\n",
       "</style>\n",
       "<table border=\"1\" class=\"dataframe\">\n",
       "  <thead>\n",
       "    <tr style=\"text-align: right;\">\n",
       "      <th></th>\n",
       "      <th>userid</th>\n",
       "      <th>user_state</th>\n",
       "      <th>event_name</th>\n",
       "      <th>event_attributes</th>\n",
       "      <th>event_created_date</th>\n",
       "      <th>event_platform</th>\n",
       "      <th>device_manufacture</th>\n",
       "      <th>device_model</th>\n",
       "    </tr>\n",
       "  </thead>\n",
       "  <tbody>\n",
       "    <tr>\n",
       "      <th>count</th>\n",
       "      <td>23357</td>\n",
       "      <td>23286</td>\n",
       "      <td>23357</td>\n",
       "      <td>23357</td>\n",
       "      <td>23357</td>\n",
       "      <td>23357</td>\n",
       "      <td>15847</td>\n",
       "      <td>15847</td>\n",
       "    </tr>\n",
       "    <tr>\n",
       "      <th>unique</th>\n",
       "      <td>3540</td>\n",
       "      <td>49</td>\n",
       "      <td>23</td>\n",
       "      <td>2309</td>\n",
       "      <td>20452</td>\n",
       "      <td>3</td>\n",
       "      <td>22</td>\n",
       "      <td>290</td>\n",
       "    </tr>\n",
       "    <tr>\n",
       "      <th>top</th>\n",
       "      <td>627f50253b42607513a1c93bb68201ad</td>\n",
       "      <td>CA</td>\n",
       "      <td>Order</td>\n",
       "      <td>{\"Premium Membership\":\"True\"}</td>\n",
       "      <td>2022-03-16 08:20:51</td>\n",
       "      <td>ios</td>\n",
       "      <td>Apple</td>\n",
       "      <td>iPhone12,1</td>\n",
       "    </tr>\n",
       "    <tr>\n",
       "      <th>freq</th>\n",
       "      <td>498</td>\n",
       "      <td>8627</td>\n",
       "      <td>6116</td>\n",
       "      <td>5451</td>\n",
       "      <td>17</td>\n",
       "      <td>9586</td>\n",
       "      <td>9586</td>\n",
       "      <td>1489</td>\n",
       "    </tr>\n",
       "  </tbody>\n",
       "</table>\n",
       "</div>"
      ],
      "text/plain": [
       "                                  userid user_state event_name  \\\n",
       "count                              23357      23286      23357   \n",
       "unique                              3540         49         23   \n",
       "top     627f50253b42607513a1c93bb68201ad         CA      Order   \n",
       "freq                                 498       8627       6116   \n",
       "\n",
       "                     event_attributes   event_created_date event_platform  \\\n",
       "count                           23357                23357          23357   \n",
       "unique                           2309                20452              3   \n",
       "top     {\"Premium Membership\":\"True\"}  2022-03-16 08:20:51            ios   \n",
       "freq                             5451                   17           9586   \n",
       "\n",
       "       device_manufacture device_model  \n",
       "count               15847        15847  \n",
       "unique                 22          290  \n",
       "top                 Apple   iPhone12,1  \n",
       "freq                 9586         1489  "
      ]
     },
     "metadata": {},
     "output_type": "display_data"
    }
   ],
   "source": [
    "display(data.describe())"
   ]
  },
  {
   "cell_type": "code",
   "execution_count": 18,
   "id": "c4fc9000-499a-4b03-8669-636fd4338e55",
   "metadata": {},
   "outputs": [
    {
     "data": {
      "text/html": [
       "<div>\n",
       "<style scoped>\n",
       "    .dataframe tbody tr th:only-of-type {\n",
       "        vertical-align: middle;\n",
       "    }\n",
       "\n",
       "    .dataframe tbody tr th {\n",
       "        vertical-align: top;\n",
       "    }\n",
       "\n",
       "    .dataframe thead th {\n",
       "        text-align: right;\n",
       "    }\n",
       "</style>\n",
       "<table border=\"1\" class=\"dataframe\">\n",
       "  <thead>\n",
       "    <tr style=\"text-align: right;\">\n",
       "      <th></th>\n",
       "      <th>Number of unique values</th>\n",
       "      <th>Values</th>\n",
       "    </tr>\n",
       "    <tr>\n",
       "      <th>Variable</th>\n",
       "      <th></th>\n",
       "      <th></th>\n",
       "    </tr>\n",
       "  </thead>\n",
       "  <tbody>\n",
       "    <tr>\n",
       "      <th>userid</th>\n",
       "      <td>3540</td>\n",
       "      <td>[c95c777785faec8dd910d019d7278ebe, f344be2d9a0...</td>\n",
       "    </tr>\n",
       "    <tr>\n",
       "      <th>user_state</th>\n",
       "      <td>49</td>\n",
       "      <td>[CA, FL, IL, TX, nan, VA, DE, WI, NY, CT, WA, ...</td>\n",
       "    </tr>\n",
       "    <tr>\n",
       "      <th>event_name</th>\n",
       "      <td>23</td>\n",
       "      <td>[Add Vehicle Success, Add Vehicle Break, Calcu...</td>\n",
       "    </tr>\n",
       "    <tr>\n",
       "      <th>event_attributes</th>\n",
       "      <td>2309</td>\n",
       "      <td>[{\"Make\":\"Dodge\",\"Model\":\"Caravan\",\"Color\":\"Wh...</td>\n",
       "    </tr>\n",
       "    <tr>\n",
       "      <th>event_created_date</th>\n",
       "      <td>20452</td>\n",
       "      <td>[2022-01-16 17:03:04, 2022-01-16 17:07:47, 202...</td>\n",
       "    </tr>\n",
       "    <tr>\n",
       "      <th>event_platform</th>\n",
       "      <td>3</td>\n",
       "      <td>[android, ios, outofband]</td>\n",
       "    </tr>\n",
       "    <tr>\n",
       "      <th>device_manufacture</th>\n",
       "      <td>22</td>\n",
       "      <td>[samsung, Apple, TCL, nan, motorola, Yulong, W...</td>\n",
       "    </tr>\n",
       "    <tr>\n",
       "      <th>device_model</th>\n",
       "      <td>290</td>\n",
       "      <td>[SM-N975U, SM-G973U1, iPhone12,1, SM-A716U, SM...</td>\n",
       "    </tr>\n",
       "  </tbody>\n",
       "</table>\n",
       "</div>"
      ],
      "text/plain": [
       "                    Number of unique values  \\\n",
       "Variable                                      \n",
       "userid                                 3540   \n",
       "user_state                               49   \n",
       "event_name                               23   \n",
       "event_attributes                       2309   \n",
       "event_created_date                    20452   \n",
       "event_platform                            3   \n",
       "device_manufacture                       22   \n",
       "device_model                            290   \n",
       "\n",
       "                                                               Values  \n",
       "Variable                                                               \n",
       "userid              [c95c777785faec8dd910d019d7278ebe, f344be2d9a0...  \n",
       "user_state          [CA, FL, IL, TX, nan, VA, DE, WI, NY, CT, WA, ...  \n",
       "event_name          [Add Vehicle Success, Add Vehicle Break, Calcu...  \n",
       "event_attributes    [{\"Make\":\"Dodge\",\"Model\":\"Caravan\",\"Color\":\"Wh...  \n",
       "event_created_date  [2022-01-16 17:03:04, 2022-01-16 17:07:47, 202...  \n",
       "event_platform                              [android, ios, outofband]  \n",
       "device_manufacture  [samsung, Apple, TCL, nan, motorola, Yulong, W...  \n",
       "device_model        [SM-N975U, SM-G973U1, iPhone12,1, SM-A716U, SM...  "
      ]
     },
     "execution_count": 18,
     "metadata": {},
     "output_type": "execute_result"
    }
   ],
   "source": [
    "variables = pd.DataFrame(columns=['Variable','Number of unique values','Values'])\n",
    "\n",
    "for i, var in enumerate(data.columns):\n",
    "    variables.loc[i] = [var, data[var].nunique(), data[var].unique().tolist()]\n",
    "variables.set_index('Variable', inplace=True)    \n",
    "variables"
   ]
  },
  {
   "cell_type": "markdown",
   "id": "c95ffc3e-1fb6-4fee-85bd-f75f340dedfb",
   "metadata": {},
   "source": [
    "## Let's add 3 new columns:\n",
    "#### 'alive' \n",
    "-> 1 if user continue using prorgam,\n",
    "           0 if user stop using prorgam\n",
    "#### 'subscribed' \n",
    " -> 1 if user made a supscirbition,\n",
    "               0 if not\n",
    "#### 'ordered_smth'\n",
    "-> 1 if user ordered something,\n",
    "                 0 if not"
   ]
  },
  {
   "cell_type": "code",
   "execution_count": 19,
   "id": "0035103f-13dc-4ace-afbf-ffb1a7cf7974",
   "metadata": {
    "tags": []
   },
   "outputs": [],
   "source": [
    "cancel_rows = data.loc[data.event_name == 'Subscription Premium Cancel']\n",
    "alive = ~data.userid.isin(cancel_rows.userid.values)\n",
    "data['alive'] = alive.map(int)\n",
    "data.to_csv('output.csv')"
   ]
  },
  {
   "cell_type": "code",
   "execution_count": 20,
   "id": "e85a5388-f846-4c66-b641-f65aa6396b39",
   "metadata": {},
   "outputs": [],
   "source": [
    "subscr_rows = data.loc[data.event_name == 'Subscription Premium']\n",
    "subscribers = data.userid.isin(subscr_rows.userid.values)\n",
    "data['subscribed'] = subscribers.map(int)\n",
    "data.to_csv('output.csv')"
   ]
  },
  {
   "cell_type": "code",
   "execution_count": 21,
   "id": "278e9cb5-984d-4f72-bebc-340ba5cad3a7",
   "metadata": {},
   "outputs": [],
   "source": [
    "order_rows = data.loc[data.event_name == 'Order']\n",
    "buyers = data.userid.isin(order_rows.userid.values)\n",
    "data['ordered_smth'] = buyers.map(int)\n",
    "data.to_csv('output.csv')"
   ]
  },
  {
   "cell_type": "code",
   "execution_count": 22,
   "id": "204bac89-8040-4595-9de7-9e89674c3ceb",
   "metadata": {},
   "outputs": [],
   "source": [
    "vihecle_succ_rows = data.loc[data.event_name == 'Order']\n",
    "buyers = data.userid.isin(order_rows.userid.values)\n",
    "data['ordered_smth'] = buyers.map(int)\n",
    "data.to_csv('output.csv')"
   ]
  },
  {
   "cell_type": "markdown",
   "id": "0c510410-1997-4dd7-91de-f4ab8e8309a2",
   "metadata": {},
   "source": [
    "### Made a new csv file 'output.csv' with new columns"
   ]
  },
  {
   "cell_type": "code",
   "execution_count": 24,
   "id": "ad655050-289c-42b5-bda1-d4d1a12ecff6",
   "metadata": {},
   "outputs": [
    {
     "data": {
      "text/html": [
       "<div>\n",
       "<style scoped>\n",
       "    .dataframe tbody tr th:only-of-type {\n",
       "        vertical-align: middle;\n",
       "    }\n",
       "\n",
       "    .dataframe tbody tr th {\n",
       "        vertical-align: top;\n",
       "    }\n",
       "\n",
       "    .dataframe thead th {\n",
       "        text-align: right;\n",
       "    }\n",
       "</style>\n",
       "<table border=\"1\" class=\"dataframe\">\n",
       "  <thead>\n",
       "    <tr style=\"text-align: right;\">\n",
       "      <th></th>\n",
       "      <th>Unnamed: 0</th>\n",
       "      <th>userid</th>\n",
       "      <th>user_state</th>\n",
       "      <th>event_name</th>\n",
       "      <th>event_attributes</th>\n",
       "      <th>event_created_date</th>\n",
       "      <th>event_platform</th>\n",
       "      <th>device_manufacture</th>\n",
       "      <th>device_model</th>\n",
       "      <th>alive</th>\n",
       "      <th>subscribed</th>\n",
       "      <th>ordered_smth</th>\n",
       "    </tr>\n",
       "  </thead>\n",
       "  <tbody>\n",
       "    <tr>\n",
       "      <th>0</th>\n",
       "      <td>0</td>\n",
       "      <td>c95c777785faec8dd910d019d7278ebe</td>\n",
       "      <td>CA</td>\n",
       "      <td>Add Vehicle Success</td>\n",
       "      <td>{\"Make\":\"Dodge\",\"Model\":\"Caravan\",\"Color\":\"Whi...</td>\n",
       "      <td>2022-01-16 17:03:04</td>\n",
       "      <td>android</td>\n",
       "      <td>samsung</td>\n",
       "      <td>SM-N975U</td>\n",
       "      <td>1</td>\n",
       "      <td>0</td>\n",
       "      <td>1</td>\n",
       "    </tr>\n",
       "    <tr>\n",
       "      <th>1</th>\n",
       "      <td>1</td>\n",
       "      <td>c95c777785faec8dd910d019d7278ebe</td>\n",
       "      <td>CA</td>\n",
       "      <td>Add Vehicle Break</td>\n",
       "      <td>{}</td>\n",
       "      <td>2022-01-16 17:07:47</td>\n",
       "      <td>android</td>\n",
       "      <td>samsung</td>\n",
       "      <td>SM-N975U</td>\n",
       "      <td>1</td>\n",
       "      <td>0</td>\n",
       "      <td>1</td>\n",
       "    </tr>\n",
       "    <tr>\n",
       "      <th>2</th>\n",
       "      <td>2</td>\n",
       "      <td>f344be2d9a042b7444f3cc5279e38ef1</td>\n",
       "      <td>FL</td>\n",
       "      <td>Calculator View</td>\n",
       "      <td>{}</td>\n",
       "      <td>2022-01-16 17:16:25</td>\n",
       "      <td>android</td>\n",
       "      <td>samsung</td>\n",
       "      <td>SM-G973U1</td>\n",
       "      <td>1</td>\n",
       "      <td>0</td>\n",
       "      <td>1</td>\n",
       "    </tr>\n",
       "    <tr>\n",
       "      <th>3</th>\n",
       "      <td>3</td>\n",
       "      <td>c95c777785faec8dd910d019d7278ebe</td>\n",
       "      <td>CA</td>\n",
       "      <td>Add Payment Method Success</td>\n",
       "      <td>{\"Payment Method\":\"Credit\",\"Tokenized Pay\":\"\"}</td>\n",
       "      <td>2022-01-16 17:24:22</td>\n",
       "      <td>android</td>\n",
       "      <td>samsung</td>\n",
       "      <td>SM-N975U</td>\n",
       "      <td>1</td>\n",
       "      <td>0</td>\n",
       "      <td>1</td>\n",
       "    </tr>\n",
       "    <tr>\n",
       "      <th>4</th>\n",
       "      <td>4</td>\n",
       "      <td>e331ed81422d8fba55520a43a872e701</td>\n",
       "      <td>IL</td>\n",
       "      <td>Sign Up Success</td>\n",
       "      <td>{\"Method\":\"Apple\"}</td>\n",
       "      <td>2022-01-16 17:34:51</td>\n",
       "      <td>ios</td>\n",
       "      <td>Apple</td>\n",
       "      <td>iPhone12,1</td>\n",
       "      <td>1</td>\n",
       "      <td>0</td>\n",
       "      <td>0</td>\n",
       "    </tr>\n",
       "  </tbody>\n",
       "</table>\n",
       "</div>"
      ],
      "text/plain": [
       "   Unnamed: 0                            userid user_state  \\\n",
       "0           0  c95c777785faec8dd910d019d7278ebe         CA   \n",
       "1           1  c95c777785faec8dd910d019d7278ebe         CA   \n",
       "2           2  f344be2d9a042b7444f3cc5279e38ef1         FL   \n",
       "3           3  c95c777785faec8dd910d019d7278ebe         CA   \n",
       "4           4  e331ed81422d8fba55520a43a872e701         IL   \n",
       "\n",
       "                   event_name  \\\n",
       "0         Add Vehicle Success   \n",
       "1           Add Vehicle Break   \n",
       "2             Calculator View   \n",
       "3  Add Payment Method Success   \n",
       "4             Sign Up Success   \n",
       "\n",
       "                                    event_attributes   event_created_date  \\\n",
       "0  {\"Make\":\"Dodge\",\"Model\":\"Caravan\",\"Color\":\"Whi...  2022-01-16 17:03:04   \n",
       "1                                                 {}  2022-01-16 17:07:47   \n",
       "2                                                 {}  2022-01-16 17:16:25   \n",
       "3     {\"Payment Method\":\"Credit\",\"Tokenized Pay\":\"\"}  2022-01-16 17:24:22   \n",
       "4                                 {\"Method\":\"Apple\"}  2022-01-16 17:34:51   \n",
       "\n",
       "  event_platform device_manufacture device_model  alive  subscribed  \\\n",
       "0        android            samsung     SM-N975U      1           0   \n",
       "1        android            samsung     SM-N975U      1           0   \n",
       "2        android            samsung    SM-G973U1      1           0   \n",
       "3        android            samsung     SM-N975U      1           0   \n",
       "4            ios              Apple   iPhone12,1      1           0   \n",
       "\n",
       "   ordered_smth  \n",
       "0             1  \n",
       "1             1  \n",
       "2             1  \n",
       "3             1  \n",
       "4             0  "
      ]
     },
     "execution_count": 24,
     "metadata": {},
     "output_type": "execute_result"
    }
   ],
   "source": [
    "new_data = pd.read_csv('Documents/hacaton/output.csv')\n",
    "new_data.head()"
   ]
  },
  {
   "cell_type": "markdown",
   "id": "3c0e0234-518d-4c0a-b931-9bbce5e2f4c7",
   "metadata": {},
   "source": [
    "## Correlation between our data"
   ]
  },
  {
   "cell_type": "markdown",
   "id": "9a8e24da-2b3a-49c1-a0f5-868f6b6ffc3b",
   "metadata": {},
   "source": [
    "#### Calculating amount of users for every event, who after cancel Subscription Premium"
   ]
  },
  {
   "cell_type": "code",
   "execution_count": 25,
   "id": "fcd267cb-98b6-4212-b6ac-2e6ac99d2a1b",
   "metadata": {},
   "outputs": [
    {
     "name": "stdout",
     "output_type": "stream",
     "text": [
      "{'Add Vehicle Success': 4962, 'Add Vehicle Break': 1736, 'Calculator View': 5140, 'Add Payment Method Success': 5513, 'Sign Up Success': 4440, 'Add Payment Method Failed': 1192, 'Wallet Opened': 18620, 'Transaction Refund': 1797, 'Email Confirmation Success': 1619, 'Account Setup Skip': 226, 'Subscription Premium': 4466, 'Chat Conversation Opened': 22360, 'Account Setup Profile Skip': 1241, 'Account History Transaction Details': 25039, 'Sign Out': 28967, 'Chat Conversation Started': 23577, 'Order': 41953, 'Sign Up Error': 30, 'Subscription Premium Cancel': 5765, 'Calculator Used': 774, 'Subscription Premium Renew': 1090, 'Add Vehicle Failed': 7, 'Reset Password Set': 0}\n"
     ]
    }
   ],
   "source": [
    "amount_events_cancel = {}\n",
    "for event in new_data['event_name'].unique():\n",
    "    cancel = new_data[new_data['alive'] == 0]\n",
    "    df = new_data[new_data['event_name'] == event]\n",
    "    df_cancel = cancel.merge(df, on='userid', how='inner')\n",
    "    amount = df_cancel.shape[0]\n",
    "    amount_events_cancel[event] = amount\n",
    "print(amount_events_cancel)"
   ]
  },
  {
   "cell_type": "code",
   "execution_count": 40,
   "id": "137a6bd8-c6f5-4f37-a003-67235624b890",
   "metadata": {},
   "outputs": [
    {
     "name": "stdout",
     "output_type": "stream",
     "text": [
      "['Add Vehicle Success', 'Add Vehicle Break', 'Calculator View', 'Add Payment Method Success', 'Sign Up Success', 'Add Payment Method Failed', 'Wallet Opened', 'Transaction Refund', 'Email Confirmation Success', 'Account Setup Skip', 'Subscription Premium', 'Chat Conversation Opened', 'Account Setup Profile Skip', 'Account History Transaction Details', 'Sign Out', 'Chat Conversation Started', 'Order', 'Sign Up Error', 'Subscription Premium Cancel', 'Calculator Used', 'Subscription Premium Renew', 'Add Vehicle Failed', 'Reset Password Set']\n",
      "[4962, 1736, 5140, 5513, 4440, 1192, 18620, 1797, 1619, 226, 4466, 22360, 1241, 25039, 28967, 23577, 41953, 30, 5765, 774, 1090, 7, 0]\n"
     ]
    }
   ],
   "source": [
    "#creating 2 lists:\n",
    "# 1- names of events\n",
    "# 2- amount of users who did this event and than cancel subscribtion\n",
    "\n",
    "keys_cancel = list(amount_events_cancel.keys())\n",
    "print(keys_cancel)\n",
    "values_cancel = list(amount_events_cancel.values())\n",
    "print(values_cancel)"
   ]
  },
  {
   "cell_type": "markdown",
   "id": "59e2a2de-7e5e-49d2-8592-7a2b7997c788",
   "metadata": {
    "tags": []
   },
   "source": [
    "#### Calculating amount of users for every event, who do not cancel Subscription Premium"
   ]
  },
  {
   "cell_type": "code",
   "execution_count": 45,
   "id": "78c6e256-cc19-4c3f-bcac-037e1f24375e",
   "metadata": {},
   "outputs": [
    {
     "name": "stdout",
     "output_type": "stream",
     "text": [
      "{'Add Vehicle Success': 16097, 'Add Vehicle Break': 3564, 'Calculator View': 9959, 'Add Payment Method Success': 13657, 'Sign Up Success': 15705, 'Add Payment Method Failed': 2873, 'Wallet Opened': 56694, 'Transaction Refund': 110, 'Email Confirmation Success': 5652, 'Account Setup Skip': 1016, 'Subscription Premium': 8403, 'Chat Conversation Opened': 23144, 'Account Setup Profile Skip': 3445, 'Account History Transaction Details': 53577, 'Sign Out': 4221, 'Chat Conversation Started': 14545, 'Order': 713675, 'Sign Up Error': 115, 'Subscription Premium Cancel': 0, 'Calculator Used': 2778, 'Subscription Premium Renew': 5741, 'Add Vehicle Failed': 154, 'Reset Password Set': 8}\n"
     ]
    }
   ],
   "source": [
    "amount_events = {}\n",
    "for event in new_data['event_name'].unique():\n",
    "    cancel = new_data[new_data['alive'] == 1]\n",
    "    df = new_data[new_data['event_name'] == event]\n",
    "    df_cancel = cancel.merge(df, on='userid', how='inner')\n",
    "    amount = df_cancel.shape[0]\n",
    "    amount_events[event] = amount\n",
    "print(amount_events)"
   ]
  },
  {
   "cell_type": "code",
   "execution_count": 51,
   "id": "bbd4151a-6908-4481-a01c-3a8b57b112c4",
   "metadata": {},
   "outputs": [
    {
     "name": "stdout",
     "output_type": "stream",
     "text": [
      "[16097, 3564, 9959, 13657, 15705, 2873, 56694, 110, 5652, 1016, 8403, 23144, 3445, 53577, 4221, 14545, 713675, 115, 0, 2778, 5741, 154, 8]\n"
     ]
    }
   ],
   "source": [
    "# creating list of amount of users who didn't cancel subscribtion\n",
    "\n",
    "values_without_cancel = list(amount_events.values())\n",
    "print(values_without_cancel)"
   ]
  },
  {
   "cell_type": "code",
   "execution_count": 85,
   "id": "887858ba-cb82-487b-bc80-745fc9a21c00",
   "metadata": {},
   "outputs": [
    {
     "name": "stdout",
     "output_type": "stream",
     "text": [
      "Add Vehicle Success correlation =  0.23562372382354338\n",
      "Add Vehicle Break correlation =  0.32754716981132076\n",
      "Calculator View correlation =  0.34041989535730843\n",
      "Add Payment Method Success correlation =  0.287584767866458\n",
      "Sign Up Success correlation =  0.22040208488458674\n",
      "Add Payment Method Failed correlation =  0.2932349323493235\n",
      "Wallet Opened correlation =  0.24723159040815784\n",
      "Transaction Refund correlation =  0.9423177766124803\n",
      "Email Confirmation Success correlation =  0.22266538302846925\n",
      "Account Setup Skip correlation =  0.1819645732689211\n",
      "Subscription Premium correlation =  0.34703551169477037\n",
      "Chat Conversation Opened correlation =  0.4913853727144866\n",
      "Account Setup Profile Skip correlation =  0.26483141271873667\n",
      "Account History Transaction Details correlation =  0.31849750686883077\n",
      "Sign Out correlation =  0.8728154754730626\n",
      "Chat Conversation Started correlation =  0.6184617805991292\n",
      "Order correlation =  0.0555207059558407\n",
      "Sign Up Error correlation =  0.20689655172413793\n",
      "Subscription Premium Cancel correlation =  1.0\n",
      "Calculator Used correlation =  0.2179054054054054\n",
      "Subscription Premium Renew correlation =  0.15956668130581175\n",
      "Add Vehicle Failed correlation =  0.043478260869565216\n",
      "Reset Password Set correlation =  0.0\n"
     ]
    }
   ],
   "source": [
    "#converting list of amount of users who did this event and than cancel subscribtion and \n",
    "# list of amount of users who didn't cancel subscribtion to numpy arrays\n",
    "\n",
    "cancel_np = np.array(values_cancel)\n",
    "without_cancel_np = np.array(values_without_cancel)\n",
    "\n",
    "all_users = cancel_np + without_cancel_np\n",
    "\n",
    "# % of users who cancel subscribtion for each event \n",
    "\n",
    "corr_np = cancel_np / all_users\n",
    "corr_np = corr_np.tolist()\n",
    "\n",
    "for i in range(len(keys_cancel)):\n",
    "    print(keys_cancel[i], 'correlation = ', corr_np[i])"
   ]
  },
  {
   "cell_type": "markdown",
   "id": "55ab6fe6-2828-406a-8a13-166266fd7862",
   "metadata": {},
   "source": [
    "## Now we need to see some statistics about users properties (users, who cancel subscribtion)"
   ]
  },
  {
   "cell_type": "code",
   "execution_count": 108,
   "id": "f68f3ff7-bd61-46a5-89e6-10daa2a7340d",
   "metadata": {},
   "outputs": [
    {
     "data": {
      "text/html": [
       "<div>\n",
       "<style scoped>\n",
       "    .dataframe tbody tr th:only-of-type {\n",
       "        vertical-align: middle;\n",
       "    }\n",
       "\n",
       "    .dataframe tbody tr th {\n",
       "        vertical-align: top;\n",
       "    }\n",
       "\n",
       "    .dataframe thead th {\n",
       "        text-align: right;\n",
       "    }\n",
       "</style>\n",
       "<table border=\"1\" class=\"dataframe\">\n",
       "  <thead>\n",
       "    <tr style=\"text-align: right;\">\n",
       "      <th></th>\n",
       "      <th>Unnamed: 0</th>\n",
       "      <th>userid</th>\n",
       "      <th>user_state</th>\n",
       "      <th>event_name</th>\n",
       "      <th>event_attributes</th>\n",
       "      <th>event_created_date</th>\n",
       "      <th>event_platform</th>\n",
       "      <th>device_manufacture</th>\n",
       "      <th>device_model</th>\n",
       "      <th>alive</th>\n",
       "      <th>subscribed</th>\n",
       "      <th>ordered_smth</th>\n",
       "    </tr>\n",
       "  </thead>\n",
       "  <tbody>\n",
       "    <tr>\n",
       "      <th>94</th>\n",
       "      <td>94</td>\n",
       "      <td>4949c7b6dfa8cef23d641fd98d50ab18</td>\n",
       "      <td>TX</td>\n",
       "      <td>Order</td>\n",
       "      <td>{\"Premium Membership\":\"True\"}</td>\n",
       "      <td>2022-01-17 06:42:11</td>\n",
       "      <td>outofband</td>\n",
       "      <td>NaN</td>\n",
       "      <td>NaN</td>\n",
       "      <td>0</td>\n",
       "      <td>0</td>\n",
       "      <td>1</td>\n",
       "    </tr>\n",
       "    <tr>\n",
       "      <th>109</th>\n",
       "      <td>109</td>\n",
       "      <td>ddfd6a4298e15df738efd4daa76403e4</td>\n",
       "      <td>NY</td>\n",
       "      <td>Chat Conversation Opened</td>\n",
       "      <td>{\"From\":\"Menu\",\"Transaction type\":\"\"}</td>\n",
       "      <td>2022-01-17 13:42:19</td>\n",
       "      <td>android</td>\n",
       "      <td>samsung</td>\n",
       "      <td>SM-A022M</td>\n",
       "      <td>0</td>\n",
       "      <td>0</td>\n",
       "      <td>1</td>\n",
       "    </tr>\n",
       "    <tr>\n",
       "      <th>110</th>\n",
       "      <td>110</td>\n",
       "      <td>ddfd6a4298e15df738efd4daa76403e4</td>\n",
       "      <td>NY</td>\n",
       "      <td>Chat Conversation Started</td>\n",
       "      <td>{}</td>\n",
       "      <td>2022-01-17 13:42:19</td>\n",
       "      <td>android</td>\n",
       "      <td>samsung</td>\n",
       "      <td>SM-A022M</td>\n",
       "      <td>0</td>\n",
       "      <td>0</td>\n",
       "      <td>1</td>\n",
       "    </tr>\n",
       "    <tr>\n",
       "      <th>111</th>\n",
       "      <td>111</td>\n",
       "      <td>ddfd6a4298e15df738efd4daa76403e4</td>\n",
       "      <td>NY</td>\n",
       "      <td>Chat Conversation Opened</td>\n",
       "      <td>{\"From\":\"Menu\",\"Transaction type\":\"\"}</td>\n",
       "      <td>2022-01-17 13:49:46</td>\n",
       "      <td>android</td>\n",
       "      <td>samsung</td>\n",
       "      <td>SM-A022M</td>\n",
       "      <td>0</td>\n",
       "      <td>0</td>\n",
       "      <td>1</td>\n",
       "    </tr>\n",
       "    <tr>\n",
       "      <th>112</th>\n",
       "      <td>112</td>\n",
       "      <td>ddfd6a4298e15df738efd4daa76403e4</td>\n",
       "      <td>NY</td>\n",
       "      <td>Chat Conversation Started</td>\n",
       "      <td>{}</td>\n",
       "      <td>2022-01-17 13:49:46</td>\n",
       "      <td>android</td>\n",
       "      <td>samsung</td>\n",
       "      <td>SM-A022M</td>\n",
       "      <td>0</td>\n",
       "      <td>0</td>\n",
       "      <td>1</td>\n",
       "    </tr>\n",
       "  </tbody>\n",
       "</table>\n",
       "</div>"
      ],
      "text/plain": [
       "     Unnamed: 0                            userid user_state  \\\n",
       "94           94  4949c7b6dfa8cef23d641fd98d50ab18         TX   \n",
       "109         109  ddfd6a4298e15df738efd4daa76403e4         NY   \n",
       "110         110  ddfd6a4298e15df738efd4daa76403e4         NY   \n",
       "111         111  ddfd6a4298e15df738efd4daa76403e4         NY   \n",
       "112         112  ddfd6a4298e15df738efd4daa76403e4         NY   \n",
       "\n",
       "                    event_name                       event_attributes  \\\n",
       "94                       Order          {\"Premium Membership\":\"True\"}   \n",
       "109   Chat Conversation Opened  {\"From\":\"Menu\",\"Transaction type\":\"\"}   \n",
       "110  Chat Conversation Started                                     {}   \n",
       "111   Chat Conversation Opened  {\"From\":\"Menu\",\"Transaction type\":\"\"}   \n",
       "112  Chat Conversation Started                                     {}   \n",
       "\n",
       "      event_created_date event_platform device_manufacture device_model  \\\n",
       "94   2022-01-17 06:42:11      outofband                NaN          NaN   \n",
       "109  2022-01-17 13:42:19        android            samsung     SM-A022M   \n",
       "110  2022-01-17 13:42:19        android            samsung     SM-A022M   \n",
       "111  2022-01-17 13:49:46        android            samsung     SM-A022M   \n",
       "112  2022-01-17 13:49:46        android            samsung     SM-A022M   \n",
       "\n",
       "     alive  subscribed  ordered_smth  \n",
       "94       0           0             1  \n",
       "109      0           0             1  \n",
       "110      0           0             1  \n",
       "111      0           0             1  \n",
       "112      0           0             1  "
      ]
     },
     "execution_count": 108,
     "metadata": {},
     "output_type": "execute_result"
    }
   ],
   "source": [
    "cancel = new_data[new_data['alive'] == 0]\n",
    "cancel.head()"
   ]
  },
  {
   "cell_type": "code",
   "execution_count": 107,
   "id": "06af3c7c-46e2-4989-a26c-20af55ae7b84",
   "metadata": {},
   "outputs": [
    {
     "name": "stderr",
     "output_type": "stream",
     "text": [
      "/var/folders/nr/qwr9pttn70x8bjvf2fnkl46h0000gn/T/ipykernel_51697/4026966114.py:12: UserWarning: FixedFormatter should only be used together with FixedLocator\n",
      "  ax.set_xticklabels(types, rotation = 90)\n"
     ]
    },
    {
     "data": {
      "image/png": "[encoded data removed]",
      "text/plain": [
       "<Figure size 640x480 with 1 Axes>"
      ]
     },
     "metadata": {},
     "output_type": "display_data"
    }
   ],
   "source": [
    "#deleting rows with Nan values\n",
    "cancel = cancel.dropna()\n",
    "\n",
    "#creating statistic plot\n",
    "fig, ax = plt.subplots()\n",
    "types = cancel['device_manufacture'].unique()\n",
    "\n",
    "for type_ in types:\n",
    "    types_df = cancel[cancel['device_manufacture'] == type_]\n",
    "    ax.bar(type_, types_df['device_manufacture'].value_counts())\n",
    "ax.set_ylabel('Count')\n",
    "ax.set_xticklabels(types, rotation = 90)\n",
    "plt.show()"
   ]
  },
  {
   "cell_type": "code",
   "execution_count": 109,
   "id": "b84d91eb-cc8f-40f6-8e8a-098cef05ec8a",
   "metadata": {},
   "outputs": [
    {
     "name": "stderr",
     "output_type": "stream",
     "text": [
      "/var/folders/nr/qwr9pttn70x8bjvf2fnkl46h0000gn/T/ipykernel_51697/2301381484.py:12: UserWarning: FixedFormatter should only be used together with FixedLocator\n",
      "  ax.set_xticklabels(types, rotation = 90)\n"
     ]
    },
    {
     "data": {
      "image/png": "[encoded data removed]",
      "text/plain": [
       "<Figure size 640x480 with 1 Axes>"
      ]
     },
     "metadata": {},
     "output_type": "display_data"
    }
   ],
   "source": [
    "#deleting rows with Nan values\n",
    "cancel = cancel.dropna()\n",
    "\n",
    "#creating statistic plot\n",
    "fig, ax = plt.subplots()\n",
    "types = cancel['event_platform'].unique()\n",
    "\n",
    "for type_ in types:\n",
    "    types_df = cancel[cancel['event_platform'] == type_]\n",
    "    ax.bar(type_, types_df['event_platform'].value_counts())\n",
    "ax.set_ylabel('Count')\n",
    "ax.set_xticklabels(types, rotation = 90)\n",
    "plt.show()"
   ]
  },
  {
   "cell_type": "markdown",
   "id": "47aa03a6-ab7f-46d0-9470-ac53f359fbe7",
   "metadata": {},
   "source": [
    "# Conclusion \n",
    "### Events that made he most impact on canceling premium subscribtion : Transaction Refund (0.9), Sign Out(0.8), Chat Conversation Started (0.4)\n",
    "### Most of these users using Apple and Sumsung devices and IOS and Android platforms"
   ]
  }
 ],
 "metadata": {
  "kernelspec": {
   "display_name": "Python 3 (ipykernel)",
   "language": "python",
   "name": "python3"
  },
  "language_info": {
   "codemirror_mode": {
    "name": "ipython",
    "version": 3
   },
   "file_extension": ".py",
   "mimetype": "text/x-python",
   "name": "python",
   "nbconvert_exporter": "python",
   "pygments_lexer": "ipython3",
   "version": "3.11.0"
  }
 },
 "nbformat": 4,
 "nbformat_minor": 5
}
